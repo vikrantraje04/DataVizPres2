{
 "cells": [
  {
   "cell_type": "code",
   "execution_count": null,
   "id": "1ebde2a4",
   "metadata": {},
   "outputs": [],
   "source": [
    "pip install dash"
   ]
  },
  {
   "cell_type": "code",
   "execution_count": null,
   "id": "706ca293",
   "metadata": {},
   "outputs": [],
   "source": [
    "import pandas as pd\n",
    "import plotly.express as px\n",
    "import dash\n",
    "import dash_html_components as html\n",
    "import dash_core_components as dcc\n",
    "from dash.dependencies import Input, Output\n",
    "from dash import Dash, dcc, html, Input, Output\n",
    "import ipywidgets as widgets"
   ]
  },
  {
   "cell_type": "code",
   "execution_count": null,
   "id": "fd053139",
   "metadata": {},
   "outputs": [],
   "source": [
    "df = pd.read_csv('GiniCoeff_Timeline.csv')\n",
    "# Filter data for US only\n",
    "us_data = df[df['Country'] == 'United States']\n",
    "\n",
    "# Create scatter plot with trendline\n",
    "fig = px.scatter(us_data, x='Year', y='Gini Index', trendline='lowess', trendline_color_override='red', title='United States Gini Index in % over time - Vikrant Raje')\n",
    "\n",
    "# Add slider filter for years\n",
    "fig.update_layout(\n",
    "    xaxis=dict(\n",
    "        rangeslider=dict(\n",
    "            visible=True\n",
    "        ),\n",
    "        type='date'\n",
    "    )\n",
    ")\n",
    "\n",
    "# Show plot\n",
    "fig.show()"
   ]
  },
  {
   "cell_type": "code",
   "execution_count": null,
   "id": "c9598699",
   "metadata": {},
   "outputs": [],
   "source": [
    "import dash\n",
    "import dash_core_components as dcc\n",
    "import dash_html_components as html\n",
    "import plotly.express as px\n",
    "import pandas as pd\n",
    "\n",
    "# Load data from CSV file\n",
    "data = pd.read_csv('Inequality_CountryWise.csv')\n",
    "\n",
    "# Create app\n",
    "app = dash.Dash(__name__)\n",
    "\n",
    "# Define options for dropdown filter\n",
    "years_list = data['Year'].unique().tolist()\n",
    "options = [{'label': str(year), 'value': year} for year in years_list]\n",
    "\n",
    "# Create layout\n",
    "app.layout = html.Div(children=[\n",
    "    html.H1(children='Gini index by Country - Vikrant Raje'),\n",
    "    dcc.Graph(id='gini-graph'),\n",
    "    dcc.Dropdown(id='year-dropdown', options=options, value=years_list, multi=True),\n",
    "])\n",
    "\n",
    "# Define callback for updating graph based on dropdown filter\n",
    "@app.callback(\n",
    "    dash.dependencies.Output('gini-graph', 'figure'),\n",
    "    [dash.dependencies.Input('year-dropdown', 'value')]\n",
    ")\n",
    "\n",
    "def update_graph(years):\n",
    "    filtered_data = data[data['Year'].isin(years)]\n",
    "    fig = px.bar(filtered_data, x='Country', y='Gini index', color='Country',\n",
    "                 hover_data={'Year': True, 'Gini index': ':.2f'})\n",
    "    fig.update_layout(xaxis_title='Country', yaxis_title='Gini index')\n",
    "    fig.update_layout(title='Gini index by Country - Vikrant Raje ({})'.format(', '.join(map(str, years))))\n",
    "    return fig\n",
    "\n",
    "if __name__ == '__main__':\n",
    "    app.run_server(debug=False,port=8080,host='0.0.0.0')"
   ]
  },
  {
   "cell_type": "code",
   "execution_count": null,
   "id": "cec21a7d",
   "metadata": {},
   "outputs": [],
   "source": [
    "exit"
   ]
  },
  {
   "cell_type": "code",
   "execution_count": null,
   "id": "5e3f56d6",
   "metadata": {},
   "outputs": [],
   "source": []
  }
 ],
 "metadata": {
  "kernelspec": {
   "display_name": "Python 3 (ipykernel)",
   "language": "python",
   "name": "python3"
  },
  "language_info": {
   "codemirror_mode": {
    "name": "ipython",
    "version": 3
   },
   "file_extension": ".py",
   "mimetype": "text/x-python",
   "name": "python",
   "nbconvert_exporter": "python",
   "pygments_lexer": "ipython3",
   "version": "3.9.13"
  }
 },
 "nbformat": 4,
 "nbformat_minor": 5
}
